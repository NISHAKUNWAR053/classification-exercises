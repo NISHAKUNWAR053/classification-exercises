{
 "cells": [
  {
   "cell_type": "markdown",
   "id": "720da79e-c090-441c-b889-f06c4f482cb9",
   "metadata": {},
   "source": [
    "# acquire.py Functions"
   ]
  },
  {
   "cell_type": "code",
   "execution_count": 1,
   "id": "a633dc86-8827-466d-b4ea-3a1f55f95bbc",
   "metadata": {},
   "outputs": [],
   "source": [
    "import os\n",
    "import pandas as pd\n",
    "import numpy as np\n",
    "\n",
    "# acquire\n",
    "from env import get_connection\n",
    "from pydataset import data\n",
    "import seaborn as sns\n"
   ]
  },
  {
   "cell_type": "code",
   "execution_count": 2,
   "id": "82881f5f-9bca-4802-a849-0bf150e3e30f",
   "metadata": {},
   "outputs": [],
   "source": [
    "db_url = get_connection('titanic_db')\n",
    "query = '''\n",
    "        SELECT *\n",
    "        FROM passengers\n",
    "        '''"
   ]
  },
  {
   "cell_type": "code",
   "execution_count": 3,
   "id": "e63c3291-661e-46de-ba05-92e8e41c8832",
   "metadata": {},
   "outputs": [],
   "source": [
    "def get_titanic_data():\n",
    "    filename = 'titanic_db.csv'\n",
    "    if os.path.isfile(filename):\n",
    "        print('Help yourself with file!')\n",
    "        return pd.read_csv(filename)\n",
    "    else:\n",
    "        print('Return the titanic data!')\n",
    "        url = get_connection('titanic_db')\n",
    "        query = '''\n",
    "                SELECT *\n",
    "                FROM passengers\n",
    "                '''\n",
    "        titanic_data = pd.read_sql(query, url)\n",
    "        titanic_data.to_csv(filename, index = 0)\n",
    "        return titanic_data"
   ]
  },
  {
   "cell_type": "code",
   "execution_count": 10,
   "id": "1c997d21-4f71-4cfb-95ff-45cef115b542",
   "metadata": {},
   "outputs": [],
   "source": [
    "db_url = get_connection('iris_db')\n",
    "query = '''\n",
    "        SELECT * \n",
    "        FROM species\n",
    "        '''"
   ]
  },
  {
   "cell_type": "code",
   "execution_count": 11,
   "id": "c7dd0350-e3cf-40ec-9694-2991360ec827",
   "metadata": {},
   "outputs": [],
   "source": [
    "def get_iris_data():\n",
    "\n",
    "    filename = 'iris.csv'\n",
    "\n",
    "    if os.path.isfile(filename):\n",
    "\n",
    "        return pd.read_csv(filename)\n",
    "        \n",
    "    else:\n",
    "        \n",
    "        url = get_connection('iris_db')\n",
    "\n",
    "        query = '''\n",
    "                SELECT * \n",
    "                FROM species\n",
    "                '''\n",
    "        \n",
    "        iris_df = pd.read_sql(query, url)\n",
    "        iris_df.to_csv(filename, index = 0)\n",
    "\n",
    "        return iris_df   "
   ]
  },
  {
   "cell_type": "code",
   "execution_count": 4,
   "id": "02da0845-ba66-4545-86d5-02e19fdb18c2",
   "metadata": {},
   "outputs": [],
   "source": [
    "def new_telco_data():\n",
    "    filename = 'telco.csv'\n",
    "    if os.path.isfile(filename):\n",
    "        return pd.read_csv(filename, index_col=0)\n",
    "    else:\n",
    "        connection = env.get_db_url('telco_churn')\n",
    "    sql_query = '''\n",
    "                SELECT * \n",
    "                FROM customers \n",
    "                JOIN contract_types USING (contract_type_id) \n",
    "                JOIN internet_service_types USING (internet_service_type_id) \n",
    "                JOIN payment_types USING (payment_type_id)\")\n",
    "                '''\n",
    "    df = pd.read_sql(sql_query, connection)\n",
    "    return df\n"
   ]
  },
  {
   "cell_type": "code",
   "execution_count": null,
   "id": "94e001da-ecd5-4159-a11c-9c7f5106d57a",
   "metadata": {},
   "outputs": [],
   "source": []
  },
  {
   "cell_type": "code",
   "execution_count": null,
   "id": "cd7bfcee-f93e-4be7-b7f8-9991f750c332",
   "metadata": {},
   "outputs": [],
   "source": []
  }
 ],
 "metadata": {
  "kernelspec": {
   "display_name": "Python 3 (ipykernel)",
   "language": "python",
   "name": "python3"
  },
  "language_info": {
   "codemirror_mode": {
    "name": "ipython",
    "version": 3
   },
   "file_extension": ".py",
   "mimetype": "text/x-python",
   "name": "python",
   "nbconvert_exporter": "python",
   "pygments_lexer": "ipython3",
   "version": "3.10.12"
  }
 },
 "nbformat": 4,
 "nbformat_minor": 5
}
