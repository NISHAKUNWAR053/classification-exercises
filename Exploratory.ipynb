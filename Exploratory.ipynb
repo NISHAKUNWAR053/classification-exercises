{
 "cells": [
  {
   "cell_type": "code",
   "execution_count": 1,
   "id": "071cc9e4-8203-4147-84d3-0f7ad6af718f",
   "metadata": {},
   "outputs": [],
   "source": [
    "import pandas as pd\n",
    "import matplotlib.pyplot as plt \n",
    "import seaborn as sns\n",
    "\n",
    "from scipy import stats\n",
    "import acquire\n",
    "import prepare\n"
   ]
  },
  {
   "cell_type": "markdown",
   "id": "261974ce-13f8-48b5-bf41-429bdb51f3d9",
   "metadata": {},
   "source": [
    "# Part 1"
   ]
  },
  {
   "cell_type": "markdown",
   "id": "d2afa92d-99ac-4a61-9f18-8bb4ed66bc83",
   "metadata": {},
   "source": [
    "Section 1 - iris_db: Using iris data from our mySQL server and the methods used in the lesson above:\n",
    "\n"
   ]
  },
  {
   "cell_type": "markdown",
   "id": "06421d85-ab35-4d98-9be6-27a719d4d677",
   "metadata": {},
   "source": [
    "1. Acquire, prepare & split your data.\n",
    "\n"
   ]
  },
  {
   "cell_type": "code",
   "execution_count": 2,
   "id": "96d3c95a-75fa-4e72-a184-6f0f01e935ea",
   "metadata": {},
   "outputs": [
    {
     "data": {
      "text/html": [
       "<div>\n",
       "<style scoped>\n",
       "    .dataframe tbody tr th:only-of-type {\n",
       "        vertical-align: middle;\n",
       "    }\n",
       "\n",
       "    .dataframe tbody tr th {\n",
       "        vertical-align: top;\n",
       "    }\n",
       "\n",
       "    .dataframe thead th {\n",
       "        text-align: right;\n",
       "    }\n",
       "</style>\n",
       "<table border=\"1\" class=\"dataframe\">\n",
       "  <thead>\n",
       "    <tr style=\"text-align: right;\">\n",
       "      <th></th>\n",
       "      <th>species_id</th>\n",
       "      <th>species_name</th>\n",
       "      <th>measurement_id</th>\n",
       "      <th>sepal_length</th>\n",
       "      <th>sepal_width</th>\n",
       "      <th>petal_length</th>\n",
       "      <th>petal_width</th>\n",
       "    </tr>\n",
       "  </thead>\n",
       "  <tbody>\n",
       "    <tr>\n",
       "      <th>0</th>\n",
       "      <td>1</td>\n",
       "      <td>setosa</td>\n",
       "      <td>1</td>\n",
       "      <td>5.1</td>\n",
       "      <td>3.5</td>\n",
       "      <td>1.4</td>\n",
       "      <td>0.2</td>\n",
       "    </tr>\n",
       "    <tr>\n",
       "      <th>1</th>\n",
       "      <td>1</td>\n",
       "      <td>setosa</td>\n",
       "      <td>2</td>\n",
       "      <td>4.9</td>\n",
       "      <td>3.0</td>\n",
       "      <td>1.4</td>\n",
       "      <td>0.2</td>\n",
       "    </tr>\n",
       "    <tr>\n",
       "      <th>2</th>\n",
       "      <td>1</td>\n",
       "      <td>setosa</td>\n",
       "      <td>3</td>\n",
       "      <td>4.7</td>\n",
       "      <td>3.2</td>\n",
       "      <td>1.3</td>\n",
       "      <td>0.2</td>\n",
       "    </tr>\n",
       "    <tr>\n",
       "      <th>3</th>\n",
       "      <td>1</td>\n",
       "      <td>setosa</td>\n",
       "      <td>4</td>\n",
       "      <td>4.6</td>\n",
       "      <td>3.1</td>\n",
       "      <td>1.5</td>\n",
       "      <td>0.2</td>\n",
       "    </tr>\n",
       "    <tr>\n",
       "      <th>4</th>\n",
       "      <td>1</td>\n",
       "      <td>setosa</td>\n",
       "      <td>5</td>\n",
       "      <td>5.0</td>\n",
       "      <td>3.6</td>\n",
       "      <td>1.4</td>\n",
       "      <td>0.2</td>\n",
       "    </tr>\n",
       "  </tbody>\n",
       "</table>\n",
       "</div>"
      ],
      "text/plain": [
       "   species_id species_name  measurement_id  sepal_length  sepal_width  \\\n",
       "0           1       setosa               1           5.1          3.5   \n",
       "1           1       setosa               2           4.9          3.0   \n",
       "2           1       setosa               3           4.7          3.2   \n",
       "3           1       setosa               4           4.6          3.1   \n",
       "4           1       setosa               5           5.0          3.6   \n",
       "\n",
       "   petal_length  petal_width  \n",
       "0           1.4          0.2  \n",
       "1           1.4          0.2  \n",
       "2           1.3          0.2  \n",
       "3           1.5          0.2  \n",
       "4           1.4          0.2  "
      ]
     },
     "execution_count": 2,
     "metadata": {},
     "output_type": "execute_result"
    }
   ],
   "source": [
    "iris = acquire.get_iris_data()\n",
    "iris.head()"
   ]
  },
  {
   "cell_type": "code",
   "execution_count": 3,
   "id": "b9461b57-61ab-42f9-ac2e-ff293110b985",
   "metadata": {},
   "outputs": [],
   "source": [
    "iris = prepare.prep_iris(iris)\n"
   ]
  },
  {
   "cell_type": "code",
   "execution_count": 4,
   "id": "2b844ef4-e218-4d78-8843-ceb271294899",
   "metadata": {},
   "outputs": [
    {
     "data": {
      "text/html": [
       "<div>\n",
       "<style scoped>\n",
       "    .dataframe tbody tr th:only-of-type {\n",
       "        vertical-align: middle;\n",
       "    }\n",
       "\n",
       "    .dataframe tbody tr th {\n",
       "        vertical-align: top;\n",
       "    }\n",
       "\n",
       "    .dataframe thead th {\n",
       "        text-align: right;\n",
       "    }\n",
       "</style>\n",
       "<table border=\"1\" class=\"dataframe\">\n",
       "  <thead>\n",
       "    <tr style=\"text-align: right;\">\n",
       "      <th></th>\n",
       "      <th>species</th>\n",
       "      <th>sepal_length</th>\n",
       "      <th>sepal_width</th>\n",
       "      <th>petal_length</th>\n",
       "      <th>petal_width</th>\n",
       "    </tr>\n",
       "  </thead>\n",
       "  <tbody>\n",
       "    <tr>\n",
       "      <th>0</th>\n",
       "      <td>setosa</td>\n",
       "      <td>5.1</td>\n",
       "      <td>3.5</td>\n",
       "      <td>1.4</td>\n",
       "      <td>0.2</td>\n",
       "    </tr>\n",
       "    <tr>\n",
       "      <th>1</th>\n",
       "      <td>setosa</td>\n",
       "      <td>4.9</td>\n",
       "      <td>3.0</td>\n",
       "      <td>1.4</td>\n",
       "      <td>0.2</td>\n",
       "    </tr>\n",
       "    <tr>\n",
       "      <th>2</th>\n",
       "      <td>setosa</td>\n",
       "      <td>4.7</td>\n",
       "      <td>3.2</td>\n",
       "      <td>1.3</td>\n",
       "      <td>0.2</td>\n",
       "    </tr>\n",
       "    <tr>\n",
       "      <th>3</th>\n",
       "      <td>setosa</td>\n",
       "      <td>4.6</td>\n",
       "      <td>3.1</td>\n",
       "      <td>1.5</td>\n",
       "      <td>0.2</td>\n",
       "    </tr>\n",
       "    <tr>\n",
       "      <th>4</th>\n",
       "      <td>setosa</td>\n",
       "      <td>5.0</td>\n",
       "      <td>3.6</td>\n",
       "      <td>1.4</td>\n",
       "      <td>0.2</td>\n",
       "    </tr>\n",
       "  </tbody>\n",
       "</table>\n",
       "</div>"
      ],
      "text/plain": [
       "  species  sepal_length  sepal_width  petal_length  petal_width\n",
       "0  setosa           5.1          3.5           1.4          0.2\n",
       "1  setosa           4.9          3.0           1.4          0.2\n",
       "2  setosa           4.7          3.2           1.3          0.2\n",
       "3  setosa           4.6          3.1           1.5          0.2\n",
       "4  setosa           5.0          3.6           1.4          0.2"
      ]
     },
     "execution_count": 4,
     "metadata": {},
     "output_type": "execute_result"
    }
   ],
   "source": [
    "iris.head()"
   ]
  },
  {
   "cell_type": "code",
   "execution_count": 5,
   "id": "a408937a-7e28-46b5-90ba-4486f6cce9e4",
   "metadata": {},
   "outputs": [],
   "source": [
    "train_iris, validate_iris, test_iris = prepare.train_val_test(iris, 'species')"
   ]
  },
  {
   "cell_type": "code",
   "execution_count": 6,
   "id": "2f8b6acb-dcaa-4906-953a-fd6dfe623a5b",
   "metadata": {},
   "outputs": [
    {
     "name": "stdout",
     "output_type": "stream",
     "text": [
      "Train: (105, 5)\n",
      "Validaate: (22, 5)\n",
      "Test:(23, 5)\n"
     ]
    }
   ],
   "source": [
    "print(f'Train: {train_iris.shape}')\n",
    "print(f'Validaate: {validate_iris.shape}')\n",
    "print(f'Test:{test_iris.shape}')"
   ]
  },
  {
   "cell_type": "code",
   "execution_count": 7,
   "id": "402ab11c-913c-470c-ab97-08b1fa7cad54",
   "metadata": {},
   "outputs": [
    {
     "data": {
      "text/html": [
       "<div>\n",
       "<style scoped>\n",
       "    .dataframe tbody tr th:only-of-type {\n",
       "        vertical-align: middle;\n",
       "    }\n",
       "\n",
       "    .dataframe tbody tr th {\n",
       "        vertical-align: top;\n",
       "    }\n",
       "\n",
       "    .dataframe thead th {\n",
       "        text-align: right;\n",
       "    }\n",
       "</style>\n",
       "<table border=\"1\" class=\"dataframe\">\n",
       "  <thead>\n",
       "    <tr style=\"text-align: right;\">\n",
       "      <th></th>\n",
       "      <th>species</th>\n",
       "      <th>sepal_length</th>\n",
       "      <th>sepal_width</th>\n",
       "      <th>petal_length</th>\n",
       "      <th>petal_width</th>\n",
       "    </tr>\n",
       "  </thead>\n",
       "  <tbody>\n",
       "    <tr>\n",
       "      <th>98</th>\n",
       "      <td>versicolor</td>\n",
       "      <td>5.1</td>\n",
       "      <td>2.5</td>\n",
       "      <td>3.0</td>\n",
       "      <td>1.1</td>\n",
       "    </tr>\n",
       "    <tr>\n",
       "      <th>68</th>\n",
       "      <td>versicolor</td>\n",
       "      <td>6.2</td>\n",
       "      <td>2.2</td>\n",
       "      <td>4.5</td>\n",
       "      <td>1.5</td>\n",
       "    </tr>\n",
       "    <tr>\n",
       "      <th>19</th>\n",
       "      <td>setosa</td>\n",
       "      <td>5.1</td>\n",
       "      <td>3.8</td>\n",
       "      <td>1.5</td>\n",
       "      <td>0.3</td>\n",
       "    </tr>\n",
       "    <tr>\n",
       "      <th>143</th>\n",
       "      <td>virginica</td>\n",
       "      <td>6.8</td>\n",
       "      <td>3.2</td>\n",
       "      <td>5.9</td>\n",
       "      <td>2.3</td>\n",
       "    </tr>\n",
       "    <tr>\n",
       "      <th>99</th>\n",
       "      <td>versicolor</td>\n",
       "      <td>5.7</td>\n",
       "      <td>2.8</td>\n",
       "      <td>4.1</td>\n",
       "      <td>1.3</td>\n",
       "    </tr>\n",
       "  </tbody>\n",
       "</table>\n",
       "</div>"
      ],
      "text/plain": [
       "        species  sepal_length  sepal_width  petal_length  petal_width\n",
       "98   versicolor           5.1          2.5           3.0          1.1\n",
       "68   versicolor           6.2          2.2           4.5          1.5\n",
       "19       setosa           5.1          3.8           1.5          0.3\n",
       "143   virginica           6.8          3.2           5.9          2.3\n",
       "99   versicolor           5.7          2.8           4.1          1.3"
      ]
     },
     "execution_count": 7,
     "metadata": {},
     "output_type": "execute_result"
    }
   ],
   "source": [
    "train_iris.head()"
   ]
  },
  {
   "cell_type": "code",
   "execution_count": 8,
   "id": "e5822e25-99c7-4536-8f48-923ae8faf718",
   "metadata": {},
   "outputs": [
    {
     "name": "stdout",
     "output_type": "stream",
     "text": [
      "<class 'pandas.core.frame.DataFrame'>\n",
      "Index: 105 entries, 98 to 3\n",
      "Data columns (total 5 columns):\n",
      " #   Column        Non-Null Count  Dtype  \n",
      "---  ------        --------------  -----  \n",
      " 0   species       105 non-null    object \n",
      " 1   sepal_length  105 non-null    float64\n",
      " 2   sepal_width   105 non-null    float64\n",
      " 3   petal_length  105 non-null    float64\n",
      " 4   petal_width   105 non-null    float64\n",
      "dtypes: float64(4), object(1)\n",
      "memory usage: 4.9+ KB\n"
     ]
    }
   ],
   "source": [
    "train_iris.info()"
   ]
  },
  {
   "cell_type": "markdown",
   "id": "dd30b5d3-7445-48d8-a57b-6177b518207a",
   "metadata": {},
   "source": [
    "2. Univariate Stats\n",
    "- For each measurement type (quantitative variable): create a histogram, boxplot, & compute descriptive statistics (using .describe()).\n",
    "\n"
   ]
  },
  {
   "cell_type": "code",
   "execution_count": 9,
   "id": "fd5841c9-5a0b-4448-82d1-5a723aa6559d",
   "metadata": {},
   "outputs": [
    {
     "data": {
      "text/html": [
       "<div>\n",
       "<style scoped>\n",
       "    .dataframe tbody tr th:only-of-type {\n",
       "        vertical-align: middle;\n",
       "    }\n",
       "\n",
       "    .dataframe tbody tr th {\n",
       "        vertical-align: top;\n",
       "    }\n",
       "\n",
       "    .dataframe thead th {\n",
       "        text-align: right;\n",
       "    }\n",
       "</style>\n",
       "<table border=\"1\" class=\"dataframe\">\n",
       "  <thead>\n",
       "    <tr style=\"text-align: right;\">\n",
       "      <th></th>\n",
       "      <th>count</th>\n",
       "      <th>mean</th>\n",
       "      <th>std</th>\n",
       "      <th>min</th>\n",
       "      <th>25%</th>\n",
       "      <th>50%</th>\n",
       "      <th>75%</th>\n",
       "      <th>max</th>\n",
       "    </tr>\n",
       "  </thead>\n",
       "  <tbody>\n",
       "    <tr>\n",
       "      <th>sepal_length</th>\n",
       "      <td>105.0</td>\n",
       "      <td>5.873333</td>\n",
       "      <td>0.862941</td>\n",
       "      <td>4.3</td>\n",
       "      <td>5.1</td>\n",
       "      <td>5.8</td>\n",
       "      <td>6.4</td>\n",
       "      <td>7.9</td>\n",
       "    </tr>\n",
       "    <tr>\n",
       "      <th>sepal_width</th>\n",
       "      <td>105.0</td>\n",
       "      <td>3.055238</td>\n",
       "      <td>0.457203</td>\n",
       "      <td>2.0</td>\n",
       "      <td>2.8</td>\n",
       "      <td>3.0</td>\n",
       "      <td>3.3</td>\n",
       "      <td>4.4</td>\n",
       "    </tr>\n",
       "    <tr>\n",
       "      <th>petal_length</th>\n",
       "      <td>105.0</td>\n",
       "      <td>3.784762</td>\n",
       "      <td>1.784052</td>\n",
       "      <td>1.1</td>\n",
       "      <td>1.6</td>\n",
       "      <td>4.2</td>\n",
       "      <td>5.1</td>\n",
       "      <td>6.9</td>\n",
       "    </tr>\n",
       "    <tr>\n",
       "      <th>petal_width</th>\n",
       "      <td>105.0</td>\n",
       "      <td>1.205714</td>\n",
       "      <td>0.777549</td>\n",
       "      <td>0.1</td>\n",
       "      <td>0.3</td>\n",
       "      <td>1.3</td>\n",
       "      <td>1.9</td>\n",
       "      <td>2.5</td>\n",
       "    </tr>\n",
       "  </tbody>\n",
       "</table>\n",
       "</div>"
      ],
      "text/plain": [
       "              count      mean       std  min  25%  50%  75%  max\n",
       "sepal_length  105.0  5.873333  0.862941  4.3  5.1  5.8  6.4  7.9\n",
       "sepal_width   105.0  3.055238  0.457203  2.0  2.8  3.0  3.3  4.4\n",
       "petal_length  105.0  3.784762  1.784052  1.1  1.6  4.2  5.1  6.9\n",
       "petal_width   105.0  1.205714  0.777549  0.1  0.3  1.3  1.9  2.5"
      ]
     },
     "execution_count": 9,
     "metadata": {},
     "output_type": "execute_result"
    }
   ],
   "source": [
    "train_iris.describe().T"
   ]
  },
  {
   "cell_type": "code",
   "execution_count": 10,
   "id": "2c0096a9-52e8-41ad-9d10-05df98716145",
   "metadata": {},
   "outputs": [],
   "source": [
    "# plot numeric values\n",
    "num_col = train_iris.columns[[train_iris[col].dtypes == 'float64' for col in train_iris.columns]]\n"
   ]
  },
  {
   "cell_type": "code",
   "execution_count": 11,
   "id": "74ef178d-58d1-4352-82f4-20255344ebd2",
   "metadata": {},
   "outputs": [
    {
     "data": {
      "image/png": "[encoded data removed]",
      "text/plain": [
       "<Figure size 640x480 with 1 Axes>"
      ]
     },
     "metadata": {},
     "output_type": "display_data"
    },
    {
     "data": {
      "image/png": "[encoded data removed]",
      "text/plain": [
       "<Figure size 640x480 with 1 Axes>"
      ]
     },
     "metadata": {},
     "output_type": "display_data"
    },
    {
     "data": {
      "image/png": "[encoded data removed]",
      "text/plain": [
       "<Figure size 640x480 with 1 Axes>"
      ]
     },
     "metadata": {},
     "output_type": "display_data"
    },
    {
     "data": {
      "image/png": "[encoded data removed]",
      "text/plain": [
       "<Figure size 640x480 with 1 Axes>"
      ]
     },
     "metadata": {},
     "output_type": "display_data"
    },
    {
     "data": {
      "image/png": "[encoded data removed]",
      "text/plain": [
       "<Figure size 640x480 with 1 Axes>"
      ]
     },
     "metadata": {},
     "output_type": "display_data"
    },
    {
     "data": {
      "image/png": "[encoded data removed]",
      "text/plain": [
       "<Figure size 640x480 with 1 Axes>"
      ]
     },
     "metadata": {},
     "output_type": "display_data"
    },
    {
     "data": {
      "image/png": "[encoded data removed]",
      "text/plain": [
       "<Figure size 640x480 with 1 Axes>"
      ]
     },
     "metadata": {},
     "output_type": "display_data"
    },
    {
     "data": {
      "image/png": "[encoded data removed]",
      "text/plain": [
       "<Figure size 640x480 with 1 Axes>"
      ]
     },
     "metadata": {},
     "output_type": "display_data"
    }
   ],
   "source": [
    "for col in num_col:\n",
    "    plt.hist(train_iris[col])\n",
    "    plt.title(col)\n",
    "    plt.show()\n",
    "    plt.boxplot(train_iris[col])\n",
    "    plt.title(col)\n",
    "    plt.show()"
   ]
  },
  {
   "cell_type": "markdown",
   "id": "895d0285-deb4-4cea-a603-2e3dd378e073",
   "metadata": {},
   "source": [
    "b. For each species (categorical variable): create a frequency table and a bar plot of those frequencies.\n",
    "\n"
   ]
  },
  {
   "cell_type": "code",
   "execution_count": 12,
   "id": "cc622fa2-24f5-42cf-a57a-63b860a1fd2e",
   "metadata": {},
   "outputs": [
    {
     "data": {
      "text/plain": [
       "species\n",
       "versicolor    35\n",
       "setosa        35\n",
       "virginica     35\n",
       "Name: count, dtype: int64"
      ]
     },
     "execution_count": 12,
     "metadata": {},
     "output_type": "execute_result"
    }
   ],
   "source": [
    "train_iris.species.value_counts()"
   ]
  },
  {
   "cell_type": "code",
   "execution_count": 13,
   "id": "1b101ff7-db61-4d26-8760-1a8569afb478",
   "metadata": {},
   "outputs": [
    {
     "data": {
      "image/png": "[encoded data removed]",
      "text/plain": [
       "<Figure size 640x480 with 1 Axes>"
      ]
     },
     "metadata": {},
     "output_type": "display_data"
    }
   ],
   "source": [
    "plt.hist(train_iris.species)\n",
    "plt.show()"
   ]
  },
  {
   "cell_type": "markdown",
   "id": "d7ab48ef-98d9-405d-96d7-7f569b41bd94",
   "metadata": {},
   "source": [
    "c. Document takeaways & any actions.\n",
    "\n",
    "- There is an equal number of species in the train dataset.\n",
    "\n",
    "\n"
   ]
  },
  {
   "cell_type": "markdown",
   "id": "995dec97-e096-44af-afda-3841e5929e7b",
   "metadata": {},
   "source": [
    "3. Bivariate Stats\n",
    "\n",
    "- Visualize each measurement type (y-axis) with the species variable (x-axis) using barplots, adding a horizontal line showing the overall mean of the metric (y-axis)."
   ]
  },
  {
   "cell_type": "code",
   "execution_count": 14,
   "id": "0df24d13-04de-4801-83f8-870fac5d5a2d",
   "metadata": {},
   "outputs": [
    {
     "data": {
      "image/png": "[encoded data removed]",
      "text/plain": [
       "<Figure size 640x480 with 1 Axes>"
      ]
     },
     "metadata": {},
     "output_type": "display_data"
    }
   ],
   "source": [
    "sns.barplot(data = train_iris, x = 'species', y = 'sepal_length')\n",
    "mean_sepal__length = train_iris.sepal_length.mean()\n",
    "plt.axhline(y = train_iris['sepal_length'].mean(), color = 'black', linestyle = 'dotted')\n",
    "plt.xlabel('')\n",
    "plt.show()"
   ]
  },
  {
   "cell_type": "code",
   "execution_count": 15,
   "id": "ef2e9236-4b12-4f3d-bf99-c2ee6b94296c",
   "metadata": {},
   "outputs": [
    {
     "data": {
      "image/png": "[encoded data removed]",
      "text/plain": [
       "<Figure size 640x480 with 1 Axes>"
      ]
     },
     "metadata": {},
     "output_type": "display_data"
    }
   ],
   "source": [
    "sns.barplot(data=train_iris, x='species', y='sepal_width')\n",
    "plt.axhline(y=train_iris[\"sepal_width\"].mean(), color=\"black\", linestyle=\"dotted\")\n",
    "\n",
    "plt.show()"
   ]
  },
  {
   "cell_type": "code",
   "execution_count": 16,
   "id": "8049c83e-d19f-4835-a682-f1ff58c2301e",
   "metadata": {},
   "outputs": [
    {
     "data": {
      "image/png": "[encoded data removed]",
      "text/plain": [
       "<Figure size 640x480 with 1 Axes>"
      ]
     },
     "metadata": {},
     "output_type": "display_data"
    }
   ],
   "source": [
    "sns.barplot(data=train_iris, x='species', y='petal_length')\n",
    "plt.axhline(y=train_iris[\"petal_length\"].mean(), color=\"black\", linestyle=\"\")\n",
    "plt.show()"
   ]
  },
  {
   "cell_type": "code",
   "execution_count": 17,
   "id": "57d17b36-3943-4a5f-a9dd-d00d2ffd1f91",
   "metadata": {},
   "outputs": [
    {
     "data": {
      "image/png": "[encoded data removed]",
      "text/plain": [
       "<Figure size 640x480 with 1 Axes>"
      ]
     },
     "metadata": {},
     "output_type": "display_data"
    }
   ],
   "source": [
    "sns.barplot(data=train_iris, x='species', y='petal_length')\n",
    "plt.axhline(y=train_iris[\"petal_length\"].mean(), color=\"black\", linestyle=\"dotted\")\n",
    "plt.show()"
   ]
  },
  {
   "cell_type": "code",
   "execution_count": 18,
   "id": "3d12bfc9-b63d-4e61-80e6-d7ee6a6831d1",
   "metadata": {},
   "outputs": [
    {
     "data": {
      "image/png": "[encoded data removed]",
      "text/plain": [
       "<Figure size 640x480 with 1 Axes>"
      ]
     },
     "metadata": {},
     "output_type": "display_data"
    }
   ],
   "source": [
    "sns.barplot(data=train_iris, x='species', y='petal_width')\n",
    "plt.axhline(y=train_iris[\"petal_width\"].mean(), color=\"black\", linestyle=\"dotted\")\n",
    "plt.show()"
   ]
  },
  {
   "cell_type": "markdown",
   "id": "f778529d-e2e5-4d01-99d9-57d69f7446f8",
   "metadata": {},
   "source": [
    "b. For each measurement type, compute the descriptive statistics for each species.\n",
    "\n"
   ]
  },
  {
   "cell_type": "code",
   "execution_count": 19,
   "id": "50c80451-dec3-42fb-9b39-96819785f1e2",
   "metadata": {},
   "outputs": [],
   "source": [
    "setosa_train = train_iris[train_iris.species == 'setosa']\n"
   ]
  },
  {
   "cell_type": "code",
   "execution_count": 20,
   "id": "f5eef9f1-0910-48ce-aa6a-e02a6d741c75",
   "metadata": {},
   "outputs": [
    {
     "name": "stdout",
     "output_type": "stream",
     "text": [
      "Setosa Sepal Length: 4.99\n"
     ]
    }
   ],
   "source": [
    "print(f'Setosa Sepal Length: {round(setosa_train.sepal_length.mean(),2)}')\n"
   ]
  },
  {
   "cell_type": "code",
   "execution_count": 21,
   "id": "a47a87f3-33fb-47b0-9418-d5f20542225c",
   "metadata": {},
   "outputs": [
    {
     "data": {
      "text/html": [
       "<div>\n",
       "<style scoped>\n",
       "    .dataframe tbody tr th:only-of-type {\n",
       "        vertical-align: middle;\n",
       "    }\n",
       "\n",
       "    .dataframe tbody tr th {\n",
       "        vertical-align: top;\n",
       "    }\n",
       "\n",
       "    .dataframe thead th {\n",
       "        text-align: right;\n",
       "    }\n",
       "</style>\n",
       "<table border=\"1\" class=\"dataframe\">\n",
       "  <thead>\n",
       "    <tr style=\"text-align: right;\">\n",
       "      <th></th>\n",
       "      <th>sepal_length</th>\n",
       "      <th>sepal_width</th>\n",
       "      <th>petal_length</th>\n",
       "      <th>petal_width</th>\n",
       "    </tr>\n",
       "  </thead>\n",
       "  <tbody>\n",
       "    <tr>\n",
       "      <th>count</th>\n",
       "      <td>35.000000</td>\n",
       "      <td>35.000000</td>\n",
       "      <td>35.000000</td>\n",
       "      <td>35.000000</td>\n",
       "    </tr>\n",
       "    <tr>\n",
       "      <th>mean</th>\n",
       "      <td>4.988571</td>\n",
       "      <td>3.425714</td>\n",
       "      <td>1.485714</td>\n",
       "      <td>0.240000</td>\n",
       "    </tr>\n",
       "    <tr>\n",
       "      <th>std</th>\n",
       "      <td>0.326092</td>\n",
       "      <td>0.423114</td>\n",
       "      <td>0.153667</td>\n",
       "      <td>0.097619</td>\n",
       "    </tr>\n",
       "    <tr>\n",
       "      <th>min</th>\n",
       "      <td>4.300000</td>\n",
       "      <td>2.300000</td>\n",
       "      <td>1.100000</td>\n",
       "      <td>0.100000</td>\n",
       "    </tr>\n",
       "    <tr>\n",
       "      <th>25%</th>\n",
       "      <td>4.800000</td>\n",
       "      <td>3.100000</td>\n",
       "      <td>1.400000</td>\n",
       "      <td>0.200000</td>\n",
       "    </tr>\n",
       "    <tr>\n",
       "      <th>50%</th>\n",
       "      <td>5.000000</td>\n",
       "      <td>3.400000</td>\n",
       "      <td>1.500000</td>\n",
       "      <td>0.200000</td>\n",
       "    </tr>\n",
       "    <tr>\n",
       "      <th>75%</th>\n",
       "      <td>5.150000</td>\n",
       "      <td>3.700000</td>\n",
       "      <td>1.550000</td>\n",
       "      <td>0.300000</td>\n",
       "    </tr>\n",
       "    <tr>\n",
       "      <th>max</th>\n",
       "      <td>5.700000</td>\n",
       "      <td>4.400000</td>\n",
       "      <td>1.900000</td>\n",
       "      <td>0.400000</td>\n",
       "    </tr>\n",
       "  </tbody>\n",
       "</table>\n",
       "</div>"
      ],
      "text/plain": [
       "       sepal_length  sepal_width  petal_length  petal_width\n",
       "count     35.000000    35.000000     35.000000    35.000000\n",
       "mean       4.988571     3.425714      1.485714     0.240000\n",
       "std        0.326092     0.423114      0.153667     0.097619\n",
       "min        4.300000     2.300000      1.100000     0.100000\n",
       "25%        4.800000     3.100000      1.400000     0.200000\n",
       "50%        5.000000     3.400000      1.500000     0.200000\n",
       "75%        5.150000     3.700000      1.550000     0.300000\n",
       "max        5.700000     4.400000      1.900000     0.400000"
      ]
     },
     "execution_count": 21,
     "metadata": {},
     "output_type": "execute_result"
    }
   ],
   "source": [
    "setosa_train.describe()"
   ]
  },
  {
   "cell_type": "code",
   "execution_count": 22,
   "id": "ea048fe5-0477-4979-bafb-c8827bea4dbe",
   "metadata": {},
   "outputs": [],
   "source": [
    "virginica_train = train_iris[train_iris.species == 'virginica']"
   ]
  },
  {
   "cell_type": "code",
   "execution_count": 23,
   "id": "f4ae4163-d6c0-4197-8873-39e74da9d7e5",
   "metadata": {},
   "outputs": [
    {
     "data": {
      "text/html": [
       "<div>\n",
       "<style scoped>\n",
       "    .dataframe tbody tr th:only-of-type {\n",
       "        vertical-align: middle;\n",
       "    }\n",
       "\n",
       "    .dataframe tbody tr th {\n",
       "        vertical-align: top;\n",
       "    }\n",
       "\n",
       "    .dataframe thead th {\n",
       "        text-align: right;\n",
       "    }\n",
       "</style>\n",
       "<table border=\"1\" class=\"dataframe\">\n",
       "  <thead>\n",
       "    <tr style=\"text-align: right;\">\n",
       "      <th></th>\n",
       "      <th>sepal_length</th>\n",
       "      <th>sepal_width</th>\n",
       "      <th>petal_length</th>\n",
       "      <th>petal_width</th>\n",
       "    </tr>\n",
       "  </thead>\n",
       "  <tbody>\n",
       "    <tr>\n",
       "      <th>count</th>\n",
       "      <td>35.000000</td>\n",
       "      <td>35.000000</td>\n",
       "      <td>35.000000</td>\n",
       "      <td>35.000000</td>\n",
       "    </tr>\n",
       "    <tr>\n",
       "      <th>mean</th>\n",
       "      <td>6.682857</td>\n",
       "      <td>3.008571</td>\n",
       "      <td>5.631429</td>\n",
       "      <td>2.068571</td>\n",
       "    </tr>\n",
       "    <tr>\n",
       "      <th>std</th>\n",
       "      <td>0.661320</td>\n",
       "      <td>0.347573</td>\n",
       "      <td>0.576384</td>\n",
       "      <td>0.256414</td>\n",
       "    </tr>\n",
       "    <tr>\n",
       "      <th>min</th>\n",
       "      <td>5.600000</td>\n",
       "      <td>2.200000</td>\n",
       "      <td>4.800000</td>\n",
       "      <td>1.500000</td>\n",
       "    </tr>\n",
       "    <tr>\n",
       "      <th>25%</th>\n",
       "      <td>6.300000</td>\n",
       "      <td>2.800000</td>\n",
       "      <td>5.100000</td>\n",
       "      <td>1.900000</td>\n",
       "    </tr>\n",
       "    <tr>\n",
       "      <th>50%</th>\n",
       "      <td>6.700000</td>\n",
       "      <td>3.000000</td>\n",
       "      <td>5.600000</td>\n",
       "      <td>2.100000</td>\n",
       "    </tr>\n",
       "    <tr>\n",
       "      <th>75%</th>\n",
       "      <td>7.200000</td>\n",
       "      <td>3.200000</td>\n",
       "      <td>6.000000</td>\n",
       "      <td>2.300000</td>\n",
       "    </tr>\n",
       "    <tr>\n",
       "      <th>max</th>\n",
       "      <td>7.900000</td>\n",
       "      <td>3.800000</td>\n",
       "      <td>6.900000</td>\n",
       "      <td>2.500000</td>\n",
       "    </tr>\n",
       "  </tbody>\n",
       "</table>\n",
       "</div>"
      ],
      "text/plain": [
       "       sepal_length  sepal_width  petal_length  petal_width\n",
       "count     35.000000    35.000000     35.000000    35.000000\n",
       "mean       6.682857     3.008571      5.631429     2.068571\n",
       "std        0.661320     0.347573      0.576384     0.256414\n",
       "min        5.600000     2.200000      4.800000     1.500000\n",
       "25%        6.300000     2.800000      5.100000     1.900000\n",
       "50%        6.700000     3.000000      5.600000     2.100000\n",
       "75%        7.200000     3.200000      6.000000     2.300000\n",
       "max        7.900000     3.800000      6.900000     2.500000"
      ]
     },
     "execution_count": 23,
     "metadata": {},
     "output_type": "execute_result"
    }
   ],
   "source": [
    "virginica_train.describe()\n"
   ]
  },
  {
   "cell_type": "code",
   "execution_count": 24,
   "id": "c55fe073-f350-4db3-9784-f1c4f7ba9734",
   "metadata": {
    "scrolled": true
   },
   "outputs": [],
   "source": [
    "versicolor_train = train_iris[train_iris.species == 'versicolor']"
   ]
  },
  {
   "cell_type": "code",
   "execution_count": 25,
   "id": "d5435783-3aaa-4537-bcf4-dfbbc077ef21",
   "metadata": {},
   "outputs": [
    {
     "data": {
      "text/html": [
       "<div>\n",
       "<style scoped>\n",
       "    .dataframe tbody tr th:only-of-type {\n",
       "        vertical-align: middle;\n",
       "    }\n",
       "\n",
       "    .dataframe tbody tr th {\n",
       "        vertical-align: top;\n",
       "    }\n",
       "\n",
       "    .dataframe thead th {\n",
       "        text-align: right;\n",
       "    }\n",
       "</style>\n",
       "<table border=\"1\" class=\"dataframe\">\n",
       "  <thead>\n",
       "    <tr style=\"text-align: right;\">\n",
       "      <th></th>\n",
       "      <th>sepal_length</th>\n",
       "      <th>sepal_width</th>\n",
       "      <th>petal_length</th>\n",
       "      <th>petal_width</th>\n",
       "    </tr>\n",
       "  </thead>\n",
       "  <tbody>\n",
       "    <tr>\n",
       "      <th>count</th>\n",
       "      <td>35.000000</td>\n",
       "      <td>35.000000</td>\n",
       "      <td>35.000000</td>\n",
       "      <td>35.000000</td>\n",
       "    </tr>\n",
       "    <tr>\n",
       "      <th>mean</th>\n",
       "      <td>5.948571</td>\n",
       "      <td>2.731429</td>\n",
       "      <td>4.237143</td>\n",
       "      <td>1.308571</td>\n",
       "    </tr>\n",
       "    <tr>\n",
       "      <th>std</th>\n",
       "      <td>0.497861</td>\n",
       "      <td>0.296818</td>\n",
       "      <td>0.466581</td>\n",
       "      <td>0.191544</td>\n",
       "    </tr>\n",
       "    <tr>\n",
       "      <th>min</th>\n",
       "      <td>5.000000</td>\n",
       "      <td>2.000000</td>\n",
       "      <td>3.000000</td>\n",
       "      <td>1.000000</td>\n",
       "    </tr>\n",
       "    <tr>\n",
       "      <th>25%</th>\n",
       "      <td>5.600000</td>\n",
       "      <td>2.550000</td>\n",
       "      <td>4.000000</td>\n",
       "      <td>1.200000</td>\n",
       "    </tr>\n",
       "    <tr>\n",
       "      <th>50%</th>\n",
       "      <td>5.900000</td>\n",
       "      <td>2.800000</td>\n",
       "      <td>4.200000</td>\n",
       "      <td>1.300000</td>\n",
       "    </tr>\n",
       "    <tr>\n",
       "      <th>75%</th>\n",
       "      <td>6.250000</td>\n",
       "      <td>2.950000</td>\n",
       "      <td>4.600000</td>\n",
       "      <td>1.450000</td>\n",
       "    </tr>\n",
       "    <tr>\n",
       "      <th>max</th>\n",
       "      <td>7.000000</td>\n",
       "      <td>3.200000</td>\n",
       "      <td>5.100000</td>\n",
       "      <td>1.800000</td>\n",
       "    </tr>\n",
       "  </tbody>\n",
       "</table>\n",
       "</div>"
      ],
      "text/plain": [
       "       sepal_length  sepal_width  petal_length  petal_width\n",
       "count     35.000000    35.000000     35.000000    35.000000\n",
       "mean       5.948571     2.731429      4.237143     1.308571\n",
       "std        0.497861     0.296818      0.466581     0.191544\n",
       "min        5.000000     2.000000      3.000000     1.000000\n",
       "25%        5.600000     2.550000      4.000000     1.200000\n",
       "50%        5.900000     2.800000      4.200000     1.300000\n",
       "75%        6.250000     2.950000      4.600000     1.450000\n",
       "max        7.000000     3.200000      5.100000     1.800000"
      ]
     },
     "execution_count": 25,
     "metadata": {},
     "output_type": "execute_result"
    }
   ],
   "source": [
    "versicolor_train.describe()"
   ]
  },
  {
   "cell_type": "markdown",
   "id": "867879ee-0179-41f8-b1c7-c379be686647",
   "metadata": {},
   "source": [
    "c. For virginica & versicolor: Compare the mean petal_width using the Mann-Whitney test (scipy.stats.mannwhitneyu) to see if there is a significant difference between the two groups. Do the same for the other measurement types.\n",
    "\n"
   ]
  },
  {
   "cell_type": "markdown",
   "id": "4900c386-1eeb-4dd0-a58e-95ab27a03a8e",
   "metadata": {},
   "source": [
    "- Null Hypothesis: population means of the petal width for all three species are equal.\n",
    "- Alternative Hypothesis: population means of the petal width for all three species are not equal.\n",
    "                                                      \n",
    "                                                    "
   ]
  },
  {
   "cell_type": "code",
   "execution_count": 33,
   "id": "66026f0e-a138-4ae5-9f72-898a0933a720",
   "metadata": {},
   "outputs": [
    {
     "data": {
      "text/plain": [
       "143    2.3\n",
       "145    2.3\n",
       "102    2.1\n",
       "110    2.0\n",
       "125    1.8\n",
       "144    2.5\n",
       "123    1.8\n",
       "105    2.1\n",
       "122    2.0\n",
       "146    1.9\n",
       "131    2.0\n",
       "128    2.1\n",
       "119    1.5\n",
       "100    2.5\n",
       "135    2.3\n",
       "113    2.0\n",
       "137    1.8\n",
       "103    1.8\n",
       "109    2.5\n",
       "136    2.4\n",
       "121    2.0\n",
       "120    2.3\n",
       "118    2.3\n",
       "115    2.3\n",
       "149    1.8\n",
       "117    2.2\n",
       "112    2.1\n",
       "126    1.8\n",
       "129    1.6\n",
       "114    2.4\n",
       "142    1.9\n",
       "124    2.1\n",
       "130    1.9\n",
       "139    2.1\n",
       "101    1.9\n",
       "Name: petal_width, dtype: float64"
      ]
     },
     "execution_count": 33,
     "metadata": {},
     "output_type": "execute_result"
    }
   ],
   "source": [
    "virginica_pw = virginica_train.petal_width\n",
    "virginica_pw"
   ]
  },
  {
   "cell_type": "code",
   "execution_count": 29,
   "id": "f9e54758-8603-46d6-addf-63272369cf8b",
   "metadata": {},
   "outputs": [
    {
     "data": {
      "text/plain": [
       "<Axes: >"
      ]
     },
     "execution_count": 29,
     "metadata": {},
     "output_type": "execute_result"
    },
    {
     "data": {
      "image/png": "[encoded data removed]",
      "text/plain": [
       "<Figure size 640x480 with 1 Axes>"
      ]
     },
     "metadata": {},
     "output_type": "display_data"
    }
   ],
   "source": [
    "virginica_train.petal_width.hist()"
   ]
  },
  {
   "cell_type": "code",
   "execution_count": 34,
   "id": "21d9f902-697a-4194-aeed-27f3fb2edeee",
   "metadata": {},
   "outputs": [
    {
     "data": {
      "text/plain": [
       "98    1.1\n",
       "68    1.5\n",
       "99    1.3\n",
       "78    1.5\n",
       "80    1.1\n",
       "70    1.8\n",
       "95    1.2\n",
       "52    1.5\n",
       "89    1.3\n",
       "67    1.0\n",
       "64    1.3\n",
       "65    1.4\n",
       "62    1.0\n",
       "71    1.3\n",
       "82    1.2\n",
       "81    1.0\n",
       "91    1.4\n",
       "96    1.3\n",
       "86    1.5\n",
       "76    1.4\n",
       "59    1.4\n",
       "83    1.6\n",
       "74    1.3\n",
       "54    1.5\n",
       "88    1.3\n",
       "87    1.3\n",
       "60    1.0\n",
       "73    1.2\n",
       "90    1.2\n",
       "50    1.4\n",
       "72    1.5\n",
       "61    1.5\n",
       "92    1.2\n",
       "79    1.0\n",
       "94    1.3\n",
       "Name: petal_width, dtype: float64"
      ]
     },
     "execution_count": 34,
     "metadata": {},
     "output_type": "execute_result"
    }
   ],
   "source": [
    "versicolor_pw = versicolor_train.petal_width\n",
    "versicolor_pw"
   ]
  },
  {
   "cell_type": "code",
   "execution_count": 32,
   "id": "44c58a08-5be4-4004-a6a4-e817cb1674ab",
   "metadata": {},
   "outputs": [
    {
     "data": {
      "text/plain": [
       "<Axes: >"
      ]
     },
     "execution_count": 32,
     "metadata": {},
     "output_type": "execute_result"
    },
    {
     "data": {
      "image/png": "[encoded data removed]",
      "text/plain": [
       "<Figure size 640x480 with 1 Axes>"
      ]
     },
     "metadata": {},
     "output_type": "display_data"
    }
   ],
   "source": [
    "versicolor_train.petal_width.hist()"
   ]
  },
  {
   "cell_type": "code",
   "execution_count": 37,
   "id": "1f58872a-bce4-42df-8d8c-3bbefca4748a",
   "metadata": {},
   "outputs": [
    {
     "data": {
      "text/plain": [
       "19    0.3\n",
       "9     0.1\n",
       "46    0.2\n",
       "8     0.2\n",
       "1     0.2\n",
       "25    0.2\n",
       "26    0.4\n",
       "29    0.2\n",
       "31    0.4\n",
       "6     0.3\n",
       "21    0.4\n",
       "16    0.4\n",
       "15    0.4\n",
       "17    0.3\n",
       "12    0.1\n",
       "45    0.3\n",
       "0     0.2\n",
       "47    0.2\n",
       "36    0.2\n",
       "24    0.2\n",
       "41    0.3\n",
       "39    0.2\n",
       "4     0.2\n",
       "34    0.2\n",
       "32    0.1\n",
       "30    0.2\n",
       "44    0.4\n",
       "13    0.1\n",
       "5     0.4\n",
       "48    0.2\n",
       "27    0.2\n",
       "11    0.2\n",
       "37    0.1\n",
       "33    0.2\n",
       "3     0.2\n",
       "Name: petal_width, dtype: float64"
      ]
     },
     "execution_count": 37,
     "metadata": {},
     "output_type": "execute_result"
    }
   ],
   "source": [
    "setosa_pw = setosa_train.petal_width\n",
    "setosa_pw"
   ]
  },
  {
   "cell_type": "code",
   "execution_count": 38,
   "id": "c01c1485-4ca1-4528-b33d-a8f54e993339",
   "metadata": {},
   "outputs": [
    {
     "data": {
      "text/plain": [
       "<Axes: >"
      ]
     },
     "execution_count": 38,
     "metadata": {},
     "output_type": "execute_result"
    },
    {
     "data": {
      "image/png": "[encoded data removed]",
      "text/plain": [
       "<Figure size 640x480 with 1 Axes>"
      ]
     },
     "metadata": {},
     "output_type": "display_data"
    }
   ],
   "source": [
    "setosa_train.petal_width.hist()"
   ]
  },
  {
   "cell_type": "code",
   "execution_count": 42,
   "id": "12b0f4bf-85fa-482f-8333-d391bb2b8961",
   "metadata": {},
   "outputs": [],
   "source": [
    "a = 0.05"
   ]
  },
  {
   "cell_type": "code",
   "execution_count": 43,
   "id": "0c0620a3-60c7-4ac3-954e-a713c9cca1e0",
   "metadata": {},
   "outputs": [
    {
     "data": {
      "text/plain": [
       "(791.3497448213755, 7.690668654365097e-63)"
      ]
     },
     "execution_count": 43,
     "metadata": {},
     "output_type": "execute_result"
    }
   ],
   "source": [
    "t, p = stats.f_oneway(virginica_pw, versicolor_pw, setosa_pw)\n",
    "t,p"
   ]
  },
  {
   "cell_type": "code",
   "execution_count": 44,
   "id": "80e53505-fc07-4180-b538-5a183a3d5dc6",
   "metadata": {},
   "outputs": [
    {
     "name": "stdout",
     "output_type": "stream",
     "text": [
      "We reject Null\n"
     ]
    }
   ],
   "source": [
    "if p < a:\n",
    "    print ('We reject Null')\n",
    "else:\n",
    "    print(' We fail to reject')"
   ]
  },
  {
   "cell_type": "code",
   "execution_count": null,
   "id": "58e30981-66f1-480f-8846-4c8a08e043a2",
   "metadata": {},
   "outputs": [],
   "source": []
  }
 ],
 "metadata": {
  "kernelspec": {
   "display_name": "Python 3 (ipykernel)",
   "language": "python",
   "name": "python3"
  },
  "language_info": {
   "codemirror_mode": {
    "name": "ipython",
    "version": 3
   },
   "file_extension": ".py",
   "mimetype": "text/x-python",
   "name": "python",
   "nbconvert_exporter": "python",
   "pygments_lexer": "ipython3",
   "version": "3.10.12"
  }
 },
 "nbformat": 4,
 "nbformat_minor": 5
}
